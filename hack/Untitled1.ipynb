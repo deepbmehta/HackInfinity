{
 "cells": [
  {
   "cell_type": "code",
   "execution_count": null,
   "metadata": {
    "collapsed": true
   },
   "outputs": [],
   "source": []
  },
  {
   "cell_type": "code",
   "execution_count": 3,
   "metadata": {
    "scrolled": false
   },
   "outputs": [
    {
     "name": "stdout",
     "output_type": "stream",
     "text": [
      "ASsadasd\n"
     ]
    },
    {
     "data": {
      "text/plain": [
       "(115, 270000)"
      ]
     },
     "execution_count": 3,
     "metadata": {},
     "output_type": "execute_result"
    }
   ],
   "source": [
    "from PIL import Image\n",
    "import numpy as np\n",
    "basewidth = 300\n",
    "\n",
    "import os\n",
    "indir = '/home/ikbal/Desktop/cotton-good/cotton crop images _ Google Search/'\n",
    "x_train = []\n",
    "y_train = []\n",
    "for root, dirs, filenames in os.walk(indir):\n",
    "    print(\"ASsadasd\")\n",
    "    for f in filenames:\n",
    "        basewidth = 300\n",
    "        img = Image.open(indir+f)\n",
    "        img = img.resize((300,300), Image.ANTIALIAS)\n",
    "        x = np.array(img)\n",
    "        x = x.reshape((-1))\n",
    "#         print(x)\n",
    "        x = x.tolist()\n",
    "        x_train.append(x)\n",
    "        y_train.append(1)\n",
    "# x_train = np.array(x_train)\n",
    "np.array(x_train).shape"
   ]
  },
  {
   "cell_type": "code",
   "execution_count": 4,
   "metadata": {
    "scrolled": true
   },
   "outputs": [
    {
     "name": "stdout",
     "output_type": "stream",
     "text": [
      "ASsadasd\n"
     ]
    },
    {
     "data": {
      "text/plain": [
       "(232,)"
      ]
     },
     "execution_count": 4,
     "metadata": {},
     "output_type": "execute_result"
    }
   ],
   "source": [
    "indir = '/home/ikbal/Desktop/cotton-bad/boll rot disease cotton images _ Google Search/'\n",
    "for root, dirs, filenames in os.walk(indir):\n",
    "    print(\"ASsadasd\")\n",
    "    for f in filenames:\n",
    "        basewidth = 300\n",
    "        img = Image.open(indir+f)\n",
    "        img = img.resize((300,300), Image.ANTIALIAS)\n",
    "        x = np.array(img)\n",
    "        x = x.reshape((-1))\n",
    "#         print(x)\n",
    "        x = x.tolist()\n",
    "        x_train.append(x)\n",
    "        y_train.append(0)\n",
    "# x_train = np.array(x_train)\n",
    "np.array(x_train)\n",
    "# x_train,y_train"
   ]
  },
  {
   "cell_type": "code",
   "execution_count": 7,
   "metadata": {
    "scrolled": false
   },
   "outputs": [
    {
     "data": {
      "text/plain": [
       "(232,)"
      ]
     },
     "execution_count": 7,
     "metadata": {},
     "output_type": "execute_result"
    }
   ],
   "source": [
    "np.array(x_train).shape"
   ]
  },
  {
   "cell_type": "code",
   "execution_count": 11,
   "metadata": {},
   "outputs": [],
   "source": [
    "import random \n",
    "combined = list(zip(x_train,y_train))\n",
    "random.shuffle(combined)\n",
    "x_train[:] ,y_train[:] = zip(*combined)"
   ]
  },
  {
   "cell_type": "code",
   "execution_count": 58,
   "metadata": {},
   "outputs": [
    {
     "data": {
      "text/plain": [
       "90"
      ]
     },
     "execution_count": 58,
     "metadata": {},
     "output_type": "execute_result"
    }
   ],
   "source": [
    "from sklearn.cross_validation import train_test_split\n",
    "xx_train,xx_test,yy_train,yy_test = train_test_split(x_train,y_train,test_size = 0.2)\n",
    "len(yy_train)"
   ]
  },
  {
   "cell_type": "code",
   "execution_count": 98,
   "metadata": {
    "scrolled": false
   },
   "outputs": [
    {
     "data": {
      "text/plain": [
       "DecisionTreeClassifier(class_weight=None, criterion='gini', max_depth=None,\n",
       "            max_features=None, max_leaf_nodes=None,\n",
       "            min_impurity_decrease=0.0, min_impurity_split=None,\n",
       "            min_samples_leaf=1, min_samples_split=2,\n",
       "            min_weight_fraction_leaf=0.0, presort=False, random_state=None,\n",
       "            splitter='best')"
      ]
     },
     "execution_count": 98,
     "metadata": {},
     "output_type": "execute_result"
    }
   ],
   "source": [
    "from sklearn.svm import *\n",
    "from xgboost import XGBClassifier\n",
    "from sklearn.ensemble import RandomForestClassifier\n",
    "from sklearn.neighbors import KNeighborsClassifier\n",
    "from sklearn.tree import DecisionTreeClassifier\n",
    "# from sklearn.neural_network import MLPClassifier\n",
    "# clf = MLPClassifier()\n",
    "clf = DecisionTreeClassifier()\n",
    "for i in xx_train:\n",
    "    if len(i) != 270000:\n",
    "        xx_train.remove(i)\n",
    "        yy_train.pop()\n",
    "xx_train = np.array(xx_train)\n",
    "yy_train = np.array(yy_train).reshape(-1,1)\n",
    "clf.fit(xx_train,yy_train)\n"
   ]
  },
  {
   "cell_type": "code",
   "execution_count": 99,
   "metadata": {
    "collapsed": true
   },
   "outputs": [],
   "source": [
    "for i in xx_test:\n",
    "    if len(i) != 270000:\n",
    "        xx_test.remove(i)\n",
    "        yy_test.pop()"
   ]
  },
  {
   "cell_type": "code",
   "execution_count": 100,
   "metadata": {},
   "outputs": [
    {
     "name": "stdout",
     "output_type": "stream",
     "text": [
      "0.571428571429\n"
     ]
    }
   ],
   "source": [
    "pred = clf.predict(xx_test)\n",
    "\n",
    "from sklearn.metrics import accuracy_score\n",
    "print(accuracy_score(yy_test,pred))"
   ]
  },
  {
   "cell_type": "code",
   "execution_count": null,
   "metadata": {
    "collapsed": true
   },
   "outputs": [],
   "source": []
  }
 ],
 "metadata": {
  "kernelspec": {
   "display_name": "Python 3",
   "language": "python",
   "name": "python3"
  },
  "language_info": {
   "codemirror_mode": {
    "name": "ipython",
    "version": 2
   },
   "file_extension": ".py",
   "mimetype": "text/x-python",
   "name": "python",
   "nbconvert_exporter": "python",
   "pygments_lexer": "ipython2",
   "version": "2.7.12"
  }
 },
 "nbformat": 4,
 "nbformat_minor": 2
}
